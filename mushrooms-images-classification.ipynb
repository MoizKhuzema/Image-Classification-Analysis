{
 "cells": [
  {
   "cell_type": "code",
   "execution_count": 1,
   "id": "e01e80d1",
   "metadata": {
    "_cell_guid": "b1076dfc-b9ad-4769-8c92-a6c4dae69d19",
    "_uuid": "8f2839f25d086af736a60e9eeb907d3b93b6e0e5",
    "execution": {
     "iopub.execute_input": "2023-06-04T15:24:37.643065Z",
     "iopub.status.busy": "2023-06-04T15:24:37.642329Z",
     "iopub.status.idle": "2023-06-04T15:24:38.405386Z",
     "shell.execute_reply": "2023-06-04T15:24:38.404167Z"
    },
    "papermill": {
     "duration": 0.771915,
     "end_time": "2023-06-04T15:24:38.407623",
     "exception": false,
     "start_time": "2023-06-04T15:24:37.635708",
     "status": "completed"
    },
    "tags": []
   },
   "outputs": [
    {
     "data": {
      "text/plain": [
       "['/kaggle/input/mushrooms-images-classification-215/data/data/elfin_saddle/11.png',\n",
       " '/kaggle/input/mushrooms-images-classification-215/data/data/elfin_saddle/4.png',\n",
       " '/kaggle/input/mushrooms-images-classification-215/data/data/elfin_saddle/9.png',\n",
       " '/kaggle/input/mushrooms-images-classification-215/data/data/elfin_saddle/14.png',\n",
       " '/kaggle/input/mushrooms-images-classification-215/data/data/elfin_saddle/1.png']"
      ]
     },
     "execution_count": 1,
     "metadata": {},
     "output_type": "execute_result"
    }
   ],
   "source": [
    "Id=[]\n",
    "import numpy as np # linear algebra\n",
    "import pandas as pd # data processing, CSV file I/O (e.g. pd.read_csv)\n",
    "\n",
    "# Input data files are available in the read-only \"../input/\" directory\n",
    "# For example, running this (by clicking run or pressing Shift+Enter) will list all files under the input directory\n",
    "\n",
    "import os\n",
    "for dirname, _, filenames in os.walk('/kaggle/input/mushrooms-images-classification-215/data/data'):\n",
    "    for filename in filenames:\n",
    "        Id.append(os.path.join(dirname, filename))\n",
    "Id[:5]"
   ]
  },
  {
   "cell_type": "code",
   "execution_count": 2,
   "id": "c2ea9aa2",
   "metadata": {
    "execution": {
     "iopub.execute_input": "2023-06-04T15:24:38.420489Z",
     "iopub.status.busy": "2023-06-04T15:24:38.419707Z",
     "iopub.status.idle": "2023-06-04T15:24:38.457442Z",
     "shell.execute_reply": "2023-06-04T15:24:38.456657Z"
    },
    "papermill": {
     "duration": 0.047066,
     "end_time": "2023-06-04T15:24:38.459588",
     "exception": false,
     "start_time": "2023-06-04T15:24:38.412522",
     "status": "completed"
    },
    "tags": []
   },
   "outputs": [
    {
     "data": {
      "text/html": [
       "<div>\n",
       "<style scoped>\n",
       "    .dataframe tbody tr th:only-of-type {\n",
       "        vertical-align: middle;\n",
       "    }\n",
       "\n",
       "    .dataframe tbody tr th {\n",
       "        vertical-align: top;\n",
       "    }\n",
       "\n",
       "    .dataframe thead th {\n",
       "        text-align: right;\n",
       "    }\n",
       "</style>\n",
       "<table border=\"1\" class=\"dataframe\">\n",
       "  <thead>\n",
       "    <tr style=\"text-align: right;\">\n",
       "      <th></th>\n",
       "      <th>filename</th>\n",
       "    </tr>\n",
       "  </thead>\n",
       "  <tbody>\n",
       "    <tr>\n",
       "      <th>0</th>\n",
       "      <td>/kaggle/input/mushrooms-images-classification-...</td>\n",
       "    </tr>\n",
       "    <tr>\n",
       "      <th>1</th>\n",
       "      <td>/kaggle/input/mushrooms-images-classification-...</td>\n",
       "    </tr>\n",
       "    <tr>\n",
       "      <th>2</th>\n",
       "      <td>/kaggle/input/mushrooms-images-classification-...</td>\n",
       "    </tr>\n",
       "    <tr>\n",
       "      <th>3</th>\n",
       "      <td>/kaggle/input/mushrooms-images-classification-...</td>\n",
       "    </tr>\n",
       "    <tr>\n",
       "      <th>4</th>\n",
       "      <td>/kaggle/input/mushrooms-images-classification-...</td>\n",
       "    </tr>\n",
       "  </tbody>\n",
       "</table>\n",
       "</div>"
      ],
      "text/plain": [
       "                                            filename\n",
       "0  /kaggle/input/mushrooms-images-classification-...\n",
       "1  /kaggle/input/mushrooms-images-classification-...\n",
       "2  /kaggle/input/mushrooms-images-classification-...\n",
       "3  /kaggle/input/mushrooms-images-classification-...\n",
       "4  /kaggle/input/mushrooms-images-classification-..."
      ]
     },
     "execution_count": 2,
     "metadata": {},
     "output_type": "execute_result"
    }
   ],
   "source": [
    "train=pd.DataFrame()\n",
    "train=train.assign(filename=Id)\n",
    "train.head()"
   ]
  },
  {
   "cell_type": "code",
   "execution_count": 3,
   "id": "3f49752b",
   "metadata": {
    "execution": {
     "iopub.execute_input": "2023-06-04T15:24:38.473851Z",
     "iopub.status.busy": "2023-06-04T15:24:38.473036Z",
     "iopub.status.idle": "2023-06-04T15:24:38.488282Z",
     "shell.execute_reply": "2023-06-04T15:24:38.487526Z"
    },
    "papermill": {
     "duration": 0.024214,
     "end_time": "2023-06-04T15:24:38.490229",
     "exception": false,
     "start_time": "2023-06-04T15:24:38.466015",
     "status": "completed"
    },
    "tags": []
   },
   "outputs": [
    {
     "data": {
      "text/html": [
       "<div>\n",
       "<style scoped>\n",
       "    .dataframe tbody tr th:only-of-type {\n",
       "        vertical-align: middle;\n",
       "    }\n",
       "\n",
       "    .dataframe tbody tr th {\n",
       "        vertical-align: top;\n",
       "    }\n",
       "\n",
       "    .dataframe thead th {\n",
       "        text-align: right;\n",
       "    }\n",
       "</style>\n",
       "<table border=\"1\" class=\"dataframe\">\n",
       "  <thead>\n",
       "    <tr style=\"text-align: right;\">\n",
       "      <th></th>\n",
       "      <th>filename</th>\n",
       "      <th>label</th>\n",
       "    </tr>\n",
       "  </thead>\n",
       "  <tbody>\n",
       "    <tr>\n",
       "      <th>0</th>\n",
       "      <td>/kaggle/input/mushrooms-images-classification-...</td>\n",
       "      <td>elfin_saddle/11.png</td>\n",
       "    </tr>\n",
       "    <tr>\n",
       "      <th>1</th>\n",
       "      <td>/kaggle/input/mushrooms-images-classification-...</td>\n",
       "      <td>elfin_saddle/4.png</td>\n",
       "    </tr>\n",
       "    <tr>\n",
       "      <th>2</th>\n",
       "      <td>/kaggle/input/mushrooms-images-classification-...</td>\n",
       "      <td>elfin_saddle/9.png</td>\n",
       "    </tr>\n",
       "    <tr>\n",
       "      <th>3</th>\n",
       "      <td>/kaggle/input/mushrooms-images-classification-...</td>\n",
       "      <td>elfin_saddle/14.png</td>\n",
       "    </tr>\n",
       "    <tr>\n",
       "      <th>4</th>\n",
       "      <td>/kaggle/input/mushrooms-images-classification-...</td>\n",
       "      <td>elfin_saddle/1.png</td>\n",
       "    </tr>\n",
       "  </tbody>\n",
       "</table>\n",
       "</div>"
      ],
      "text/plain": [
       "                                            filename                label\n",
       "0  /kaggle/input/mushrooms-images-classification-...  elfin_saddle/11.png\n",
       "1  /kaggle/input/mushrooms-images-classification-...   elfin_saddle/4.png\n",
       "2  /kaggle/input/mushrooms-images-classification-...   elfin_saddle/9.png\n",
       "3  /kaggle/input/mushrooms-images-classification-...  elfin_saddle/14.png\n",
       "4  /kaggle/input/mushrooms-images-classification-...   elfin_saddle/1.png"
      ]
     },
     "execution_count": 3,
     "metadata": {},
     "output_type": "execute_result"
    }
   ],
   "source": [
    "train['label']=train['filename']\n",
    "train['label']=train['label'].str.replace('/kaggle/input/mushrooms-images-classification-215/data/data/','')\n",
    "train.head()"
   ]
  },
  {
   "cell_type": "code",
   "execution_count": 4,
   "id": "cedf2630",
   "metadata": {
    "execution": {
     "iopub.execute_input": "2023-06-04T15:24:38.505901Z",
     "iopub.status.busy": "2023-06-04T15:24:38.505213Z",
     "iopub.status.idle": "2023-06-04T15:24:38.525672Z",
     "shell.execute_reply": "2023-06-04T15:24:38.524725Z"
    },
    "papermill": {
     "duration": 0.03112,
     "end_time": "2023-06-04T15:24:38.528400",
     "exception": false,
     "start_time": "2023-06-04T15:24:38.497280",
     "status": "completed"
    },
    "tags": []
   },
   "outputs": [
    {
     "data": {
      "text/html": [
       "<div>\n",
       "<style scoped>\n",
       "    .dataframe tbody tr th:only-of-type {\n",
       "        vertical-align: middle;\n",
       "    }\n",
       "\n",
       "    .dataframe tbody tr th {\n",
       "        vertical-align: top;\n",
       "    }\n",
       "\n",
       "    .dataframe thead th {\n",
       "        text-align: right;\n",
       "    }\n",
       "</style>\n",
       "<table border=\"1\" class=\"dataframe\">\n",
       "  <thead>\n",
       "    <tr style=\"text-align: right;\">\n",
       "      <th></th>\n",
       "      <th>filename</th>\n",
       "      <th>label</th>\n",
       "    </tr>\n",
       "  </thead>\n",
       "  <tbody>\n",
       "    <tr>\n",
       "      <th>0</th>\n",
       "      <td>/kaggle/input/mushrooms-images-classification-...</td>\n",
       "      <td>elfin_saddle</td>\n",
       "    </tr>\n",
       "    <tr>\n",
       "      <th>1</th>\n",
       "      <td>/kaggle/input/mushrooms-images-classification-...</td>\n",
       "      <td>elfin_saddle</td>\n",
       "    </tr>\n",
       "    <tr>\n",
       "      <th>2</th>\n",
       "      <td>/kaggle/input/mushrooms-images-classification-...</td>\n",
       "      <td>elfin_saddle</td>\n",
       "    </tr>\n",
       "    <tr>\n",
       "      <th>3</th>\n",
       "      <td>/kaggle/input/mushrooms-images-classification-...</td>\n",
       "      <td>elfin_saddle</td>\n",
       "    </tr>\n",
       "    <tr>\n",
       "      <th>4</th>\n",
       "      <td>/kaggle/input/mushrooms-images-classification-...</td>\n",
       "      <td>elfin_saddle</td>\n",
       "    </tr>\n",
       "  </tbody>\n",
       "</table>\n",
       "</div>"
      ],
      "text/plain": [
       "                                            filename         label\n",
       "0  /kaggle/input/mushrooms-images-classification-...  elfin_saddle\n",
       "1  /kaggle/input/mushrooms-images-classification-...  elfin_saddle\n",
       "2  /kaggle/input/mushrooms-images-classification-...  elfin_saddle\n",
       "3  /kaggle/input/mushrooms-images-classification-...  elfin_saddle\n",
       "4  /kaggle/input/mushrooms-images-classification-...  elfin_saddle"
      ]
     },
     "execution_count": 4,
     "metadata": {},
     "output_type": "execute_result"
    }
   ],
   "source": [
    "train['label'] = train['label'].str.split('/').str[0]\n",
    "train.head()"
   ]
  },
  {
   "cell_type": "code",
   "execution_count": 5,
   "id": "48f198a5",
   "metadata": {
    "execution": {
     "iopub.execute_input": "2023-06-04T15:24:38.543380Z",
     "iopub.status.busy": "2023-06-04T15:24:38.542751Z",
     "iopub.status.idle": "2023-06-04T15:24:38.563616Z",
     "shell.execute_reply": "2023-06-04T15:24:38.562632Z"
    },
    "papermill": {
     "duration": 0.031441,
     "end_time": "2023-06-04T15:24:38.566498",
     "exception": false,
     "start_time": "2023-06-04T15:24:38.535057",
     "status": "completed"
    },
    "tags": []
   },
   "outputs": [
    {
     "data": {
      "text/html": [
       "<div>\n",
       "<style scoped>\n",
       "    .dataframe tbody tr th:only-of-type {\n",
       "        vertical-align: middle;\n",
       "    }\n",
       "\n",
       "    .dataframe tbody tr th {\n",
       "        vertical-align: top;\n",
       "    }\n",
       "\n",
       "    .dataframe thead th {\n",
       "        text-align: right;\n",
       "    }\n",
       "</style>\n",
       "<table border=\"1\" class=\"dataframe\">\n",
       "  <thead>\n",
       "    <tr style=\"text-align: right;\">\n",
       "      <th></th>\n",
       "      <th>label</th>\n",
       "      <th>count</th>\n",
       "    </tr>\n",
       "  </thead>\n",
       "  <tbody>\n",
       "    <tr>\n",
       "      <th>0</th>\n",
       "      <td>deadly_fibrecap</td>\n",
       "      <td>16</td>\n",
       "    </tr>\n",
       "    <tr>\n",
       "      <th>1</th>\n",
       "      <td>elfin_saddle</td>\n",
       "      <td>15</td>\n",
       "    </tr>\n",
       "    <tr>\n",
       "      <th>2</th>\n",
       "      <td>the_prince</td>\n",
       "      <td>15</td>\n",
       "    </tr>\n",
       "    <tr>\n",
       "      <th>3</th>\n",
       "      <td>amethyst_deceiver</td>\n",
       "      <td>15</td>\n",
       "    </tr>\n",
       "    <tr>\n",
       "      <th>4</th>\n",
       "      <td>red_cracking_bolete</td>\n",
       "      <td>15</td>\n",
       "    </tr>\n",
       "    <tr>\n",
       "      <th>...</th>\n",
       "      <td>...</td>\n",
       "      <td>...</td>\n",
       "    </tr>\n",
       "    <tr>\n",
       "      <th>210</th>\n",
       "      <td>cinnamon_bracket</td>\n",
       "      <td>9</td>\n",
       "    </tr>\n",
       "    <tr>\n",
       "      <th>211</th>\n",
       "      <td>devils_bolete</td>\n",
       "      <td>8</td>\n",
       "    </tr>\n",
       "    <tr>\n",
       "      <th>212</th>\n",
       "      <td>deadly_webcap</td>\n",
       "      <td>8</td>\n",
       "    </tr>\n",
       "    <tr>\n",
       "      <th>213</th>\n",
       "      <td>orange_birch_bolete</td>\n",
       "      <td>8</td>\n",
       "    </tr>\n",
       "    <tr>\n",
       "      <th>214</th>\n",
       "      <td>truffles</td>\n",
       "      <td>4</td>\n",
       "    </tr>\n",
       "  </tbody>\n",
       "</table>\n",
       "<p>215 rows × 2 columns</p>\n",
       "</div>"
      ],
      "text/plain": [
       "                   label  count\n",
       "0        deadly_fibrecap     16\n",
       "1           elfin_saddle     15\n",
       "2             the_prince     15\n",
       "3      amethyst_deceiver     15\n",
       "4    red_cracking_bolete     15\n",
       "..                   ...    ...\n",
       "210     cinnamon_bracket      9\n",
       "211        devils_bolete      8\n",
       "212        deadly_webcap      8\n",
       "213  orange_birch_bolete      8\n",
       "214             truffles      4\n",
       "\n",
       "[215 rows x 2 columns]"
      ]
     },
     "execution_count": 5,
     "metadata": {},
     "output_type": "execute_result"
    }
   ],
   "source": [
    "count=(train.label.value_counts()).to_frame()\n",
    "count.reset_index(inplace=True)\n",
    "count.columns=['label','count']\n",
    "count"
   ]
  },
  {
   "cell_type": "code",
   "execution_count": 6,
   "id": "a09c2600",
   "metadata": {
    "execution": {
     "iopub.execute_input": "2023-06-04T15:24:38.582260Z",
     "iopub.status.busy": "2023-06-04T15:24:38.581679Z",
     "iopub.status.idle": "2023-06-04T15:24:38.602187Z",
     "shell.execute_reply": "2023-06-04T15:24:38.601138Z"
    },
    "papermill": {
     "duration": 0.030966,
     "end_time": "2023-06-04T15:24:38.604444",
     "exception": false,
     "start_time": "2023-06-04T15:24:38.573478",
     "status": "completed"
    },
    "tags": []
   },
   "outputs": [
    {
     "data": {
      "text/html": [
       "<div>\n",
       "<style scoped>\n",
       "    .dataframe tbody tr th:only-of-type {\n",
       "        vertical-align: middle;\n",
       "    }\n",
       "\n",
       "    .dataframe tbody tr th {\n",
       "        vertical-align: top;\n",
       "    }\n",
       "\n",
       "    .dataframe thead th {\n",
       "        text-align: right;\n",
       "    }\n",
       "</style>\n",
       "<table border=\"1\" class=\"dataframe\">\n",
       "  <thead>\n",
       "    <tr style=\"text-align: right;\">\n",
       "      <th></th>\n",
       "      <th>label</th>\n",
       "      <th>count</th>\n",
       "    </tr>\n",
       "  </thead>\n",
       "  <tbody>\n",
       "    <tr>\n",
       "      <th>0</th>\n",
       "      <td>deadly_fibrecap</td>\n",
       "      <td>16</td>\n",
       "    </tr>\n",
       "    <tr>\n",
       "      <th>1</th>\n",
       "      <td>elfin_saddle</td>\n",
       "      <td>15</td>\n",
       "    </tr>\n",
       "    <tr>\n",
       "      <th>2</th>\n",
       "      <td>the_prince</td>\n",
       "      <td>15</td>\n",
       "    </tr>\n",
       "    <tr>\n",
       "      <th>3</th>\n",
       "      <td>amethyst_deceiver</td>\n",
       "      <td>15</td>\n",
       "    </tr>\n",
       "    <tr>\n",
       "      <th>4</th>\n",
       "      <td>red_cracking_bolete</td>\n",
       "      <td>15</td>\n",
       "    </tr>\n",
       "    <tr>\n",
       "      <th>...</th>\n",
       "      <td>...</td>\n",
       "      <td>...</td>\n",
       "    </tr>\n",
       "    <tr>\n",
       "      <th>209</th>\n",
       "      <td>hoof_fungus</td>\n",
       "      <td>10</td>\n",
       "    </tr>\n",
       "    <tr>\n",
       "      <th>210</th>\n",
       "      <td>cinnamon_bracket</td>\n",
       "      <td>9</td>\n",
       "    </tr>\n",
       "    <tr>\n",
       "      <th>211</th>\n",
       "      <td>devils_bolete</td>\n",
       "      <td>8</td>\n",
       "    </tr>\n",
       "    <tr>\n",
       "      <th>212</th>\n",
       "      <td>deadly_webcap</td>\n",
       "      <td>8</td>\n",
       "    </tr>\n",
       "    <tr>\n",
       "      <th>213</th>\n",
       "      <td>orange_birch_bolete</td>\n",
       "      <td>8</td>\n",
       "    </tr>\n",
       "  </tbody>\n",
       "</table>\n",
       "<p>214 rows × 2 columns</p>\n",
       "</div>"
      ],
      "text/plain": [
       "                   label  count\n",
       "0        deadly_fibrecap     16\n",
       "1           elfin_saddle     15\n",
       "2             the_prince     15\n",
       "3      amethyst_deceiver     15\n",
       "4    red_cracking_bolete     15\n",
       "..                   ...    ...\n",
       "209          hoof_fungus     10\n",
       "210     cinnamon_bracket      9\n",
       "211        devils_bolete      8\n",
       "212        deadly_webcap      8\n",
       "213  orange_birch_bolete      8\n",
       "\n",
       "[214 rows x 2 columns]"
      ]
     },
     "execution_count": 6,
     "metadata": {},
     "output_type": "execute_result"
    }
   ],
   "source": [
    "train=train[train.label!='truffles']\n",
    "count=(train.label.value_counts()).to_frame()\n",
    "count.reset_index(inplace=True)\n",
    "count.columns=['label','count']\n",
    "count"
   ]
  },
  {
   "cell_type": "code",
   "execution_count": 7,
   "id": "4c427b75",
   "metadata": {
    "execution": {
     "iopub.execute_input": "2023-06-04T15:24:38.623125Z",
     "iopub.status.busy": "2023-06-04T15:24:38.622283Z",
     "iopub.status.idle": "2023-06-04T15:24:39.867816Z",
     "shell.execute_reply": "2023-06-04T15:24:39.866566Z"
    },
    "papermill": {
     "duration": 1.257618,
     "end_time": "2023-06-04T15:24:39.870514",
     "exception": false,
     "start_time": "2023-06-04T15:24:38.612896",
     "status": "completed"
    },
    "tags": []
   },
   "outputs": [],
   "source": [
    "from sklearn.model_selection import train_test_split\n",
    "train,test= train_test_split( train, test_size=0.2, random_state=42,shuffle=True, stratify=train['label'])"
   ]
  },
  {
   "cell_type": "code",
   "execution_count": 8,
   "id": "7087036f",
   "metadata": {
    "execution": {
     "iopub.execute_input": "2023-06-04T15:24:39.883471Z",
     "iopub.status.busy": "2023-06-04T15:24:39.882547Z",
     "iopub.status.idle": "2023-06-04T15:24:39.897829Z",
     "shell.execute_reply": "2023-06-04T15:24:39.896740Z"
    },
    "papermill": {
     "duration": 0.024303,
     "end_time": "2023-06-04T15:24:39.900264",
     "exception": false,
     "start_time": "2023-06-04T15:24:39.875961",
     "status": "completed"
    },
    "tags": []
   },
   "outputs": [
    {
     "data": {
      "text/html": [
       "<div>\n",
       "<style scoped>\n",
       "    .dataframe tbody tr th:only-of-type {\n",
       "        vertical-align: middle;\n",
       "    }\n",
       "\n",
       "    .dataframe tbody tr th {\n",
       "        vertical-align: top;\n",
       "    }\n",
       "\n",
       "    .dataframe thead th {\n",
       "        text-align: right;\n",
       "    }\n",
       "</style>\n",
       "<table border=\"1\" class=\"dataframe\">\n",
       "  <thead>\n",
       "    <tr style=\"text-align: right;\">\n",
       "      <th></th>\n",
       "      <th>label</th>\n",
       "      <th>count</th>\n",
       "    </tr>\n",
       "  </thead>\n",
       "  <tbody>\n",
       "    <tr>\n",
       "      <th>0</th>\n",
       "      <td>deadly_fibrecap</td>\n",
       "      <td>13</td>\n",
       "    </tr>\n",
       "    <tr>\n",
       "      <th>1</th>\n",
       "      <td>slimy_waxcap</td>\n",
       "      <td>12</td>\n",
       "    </tr>\n",
       "    <tr>\n",
       "      <th>2</th>\n",
       "      <td>dusky_puffball</td>\n",
       "      <td>12</td>\n",
       "    </tr>\n",
       "    <tr>\n",
       "      <th>3</th>\n",
       "      <td>beechwood_sickener</td>\n",
       "      <td>12</td>\n",
       "    </tr>\n",
       "    <tr>\n",
       "      <th>4</th>\n",
       "      <td>scarlet_caterpillarclub</td>\n",
       "      <td>12</td>\n",
       "    </tr>\n",
       "    <tr>\n",
       "      <th>...</th>\n",
       "      <td>...</td>\n",
       "      <td>...</td>\n",
       "    </tr>\n",
       "    <tr>\n",
       "      <th>209</th>\n",
       "      <td>cedarwood_waxcap</td>\n",
       "      <td>8</td>\n",
       "    </tr>\n",
       "    <tr>\n",
       "      <th>210</th>\n",
       "      <td>cinnamon_bracket</td>\n",
       "      <td>7</td>\n",
       "    </tr>\n",
       "    <tr>\n",
       "      <th>211</th>\n",
       "      <td>orange_birch_bolete</td>\n",
       "      <td>6</td>\n",
       "    </tr>\n",
       "    <tr>\n",
       "      <th>212</th>\n",
       "      <td>deadly_webcap</td>\n",
       "      <td>6</td>\n",
       "    </tr>\n",
       "    <tr>\n",
       "      <th>213</th>\n",
       "      <td>devils_bolete</td>\n",
       "      <td>6</td>\n",
       "    </tr>\n",
       "  </tbody>\n",
       "</table>\n",
       "<p>214 rows × 2 columns</p>\n",
       "</div>"
      ],
      "text/plain": [
       "                       label  count\n",
       "0            deadly_fibrecap     13\n",
       "1               slimy_waxcap     12\n",
       "2             dusky_puffball     12\n",
       "3         beechwood_sickener     12\n",
       "4    scarlet_caterpillarclub     12\n",
       "..                       ...    ...\n",
       "209         cedarwood_waxcap      8\n",
       "210         cinnamon_bracket      7\n",
       "211      orange_birch_bolete      6\n",
       "212            deadly_webcap      6\n",
       "213            devils_bolete      6\n",
       "\n",
       "[214 rows x 2 columns]"
      ]
     },
     "execution_count": 8,
     "metadata": {},
     "output_type": "execute_result"
    }
   ],
   "source": [
    "count=(train.label.value_counts()).to_frame()\n",
    "count.reset_index(inplace=True)\n",
    "count.columns=['label','count']\n",
    "count"
   ]
  },
  {
   "cell_type": "code",
   "execution_count": 9,
   "id": "dec60841",
   "metadata": {
    "execution": {
     "iopub.execute_input": "2023-06-04T15:24:39.913337Z",
     "iopub.status.busy": "2023-06-04T15:24:39.912938Z",
     "iopub.status.idle": "2023-06-04T15:24:39.924280Z",
     "shell.execute_reply": "2023-06-04T15:24:39.923154Z"
    },
    "papermill": {
     "duration": 0.020976,
     "end_time": "2023-06-04T15:24:39.926899",
     "exception": false,
     "start_time": "2023-06-04T15:24:39.905923",
     "status": "completed"
    },
    "tags": []
   },
   "outputs": [
    {
     "data": {
      "text/html": [
       "<div>\n",
       "<style scoped>\n",
       "    .dataframe tbody tr th:only-of-type {\n",
       "        vertical-align: middle;\n",
       "    }\n",
       "\n",
       "    .dataframe tbody tr th {\n",
       "        vertical-align: top;\n",
       "    }\n",
       "\n",
       "    .dataframe thead th {\n",
       "        text-align: right;\n",
       "    }\n",
       "</style>\n",
       "<table border=\"1\" class=\"dataframe\">\n",
       "  <thead>\n",
       "    <tr style=\"text-align: right;\">\n",
       "      <th></th>\n",
       "      <th>filename</th>\n",
       "      <th>label</th>\n",
       "    </tr>\n",
       "  </thead>\n",
       "  <tbody>\n",
       "    <tr>\n",
       "      <th>0</th>\n",
       "      <td>/kaggle/input/mushrooms-images-classification-...</td>\n",
       "      <td>snowy_waxcap</td>\n",
       "    </tr>\n",
       "    <tr>\n",
       "      <th>1</th>\n",
       "      <td>/kaggle/input/mushrooms-images-classification-...</td>\n",
       "      <td>wood_mushroom</td>\n",
       "    </tr>\n",
       "    <tr>\n",
       "      <th>2</th>\n",
       "      <td>/kaggle/input/mushrooms-images-classification-...</td>\n",
       "      <td>snakeskin_grisette</td>\n",
       "    </tr>\n",
       "    <tr>\n",
       "      <th>3</th>\n",
       "      <td>/kaggle/input/mushrooms-images-classification-...</td>\n",
       "      <td>ochre_brittlegill</td>\n",
       "    </tr>\n",
       "    <tr>\n",
       "      <th>4</th>\n",
       "      <td>/kaggle/input/mushrooms-images-classification-...</td>\n",
       "      <td>stump_puffball</td>\n",
       "    </tr>\n",
       "  </tbody>\n",
       "</table>\n",
       "</div>"
      ],
      "text/plain": [
       "                                            filename               label\n",
       "0  /kaggle/input/mushrooms-images-classification-...        snowy_waxcap\n",
       "1  /kaggle/input/mushrooms-images-classification-...       wood_mushroom\n",
       "2  /kaggle/input/mushrooms-images-classification-...  snakeskin_grisette\n",
       "3  /kaggle/input/mushrooms-images-classification-...   ochre_brittlegill\n",
       "4  /kaggle/input/mushrooms-images-classification-...      stump_puffball"
      ]
     },
     "execution_count": 9,
     "metadata": {},
     "output_type": "execute_result"
    }
   ],
   "source": [
    "train=train.sample(n=len(train))\n",
    "train.reset_index(inplace=True,drop=True)\n",
    "train.head()"
   ]
  },
  {
   "cell_type": "code",
   "execution_count": 10,
   "id": "381111c5",
   "metadata": {
    "execution": {
     "iopub.execute_input": "2023-06-04T15:24:39.940503Z",
     "iopub.status.busy": "2023-06-04T15:24:39.939866Z",
     "iopub.status.idle": "2023-06-04T15:24:39.950209Z",
     "shell.execute_reply": "2023-06-04T15:24:39.949130Z"
    },
    "papermill": {
     "duration": 0.019815,
     "end_time": "2023-06-04T15:24:39.952459",
     "exception": false,
     "start_time": "2023-06-04T15:24:39.932644",
     "status": "completed"
    },
    "tags": []
   },
   "outputs": [
    {
     "data": {
      "text/html": [
       "<div>\n",
       "<style scoped>\n",
       "    .dataframe tbody tr th:only-of-type {\n",
       "        vertical-align: middle;\n",
       "    }\n",
       "\n",
       "    .dataframe tbody tr th {\n",
       "        vertical-align: top;\n",
       "    }\n",
       "\n",
       "    .dataframe thead th {\n",
       "        text-align: right;\n",
       "    }\n",
       "</style>\n",
       "<table border=\"1\" class=\"dataframe\">\n",
       "  <thead>\n",
       "    <tr style=\"text-align: right;\">\n",
       "      <th></th>\n",
       "      <th>filename</th>\n",
       "      <th>label</th>\n",
       "    </tr>\n",
       "  </thead>\n",
       "  <tbody>\n",
       "    <tr>\n",
       "      <th>0</th>\n",
       "      <td>/kaggle/input/mushrooms-images-classification-...</td>\n",
       "      <td>silverleaf_fungus</td>\n",
       "    </tr>\n",
       "    <tr>\n",
       "      <th>1</th>\n",
       "      <td>/kaggle/input/mushrooms-images-classification-...</td>\n",
       "      <td>shaggy_parasol</td>\n",
       "    </tr>\n",
       "    <tr>\n",
       "      <th>2</th>\n",
       "      <td>/kaggle/input/mushrooms-images-classification-...</td>\n",
       "      <td>terracotta_hedgehog</td>\n",
       "    </tr>\n",
       "    <tr>\n",
       "      <th>3</th>\n",
       "      <td>/kaggle/input/mushrooms-images-classification-...</td>\n",
       "      <td>thimble_morel</td>\n",
       "    </tr>\n",
       "    <tr>\n",
       "      <th>4</th>\n",
       "      <td>/kaggle/input/mushrooms-images-classification-...</td>\n",
       "      <td>smoky_bracket</td>\n",
       "    </tr>\n",
       "  </tbody>\n",
       "</table>\n",
       "</div>"
      ],
      "text/plain": [
       "                                            filename                label\n",
       "0  /kaggle/input/mushrooms-images-classification-...    silverleaf_fungus\n",
       "1  /kaggle/input/mushrooms-images-classification-...       shaggy_parasol\n",
       "2  /kaggle/input/mushrooms-images-classification-...  terracotta_hedgehog\n",
       "3  /kaggle/input/mushrooms-images-classification-...        thimble_morel\n",
       "4  /kaggle/input/mushrooms-images-classification-...        smoky_bracket"
      ]
     },
     "execution_count": 10,
     "metadata": {},
     "output_type": "execute_result"
    }
   ],
   "source": [
    "test=test.sample(n=len(test))\n",
    "test.reset_index(inplace=True,drop=True)\n",
    "test.head()"
   ]
  },
  {
   "cell_type": "code",
   "execution_count": 11,
   "id": "ff8408b6",
   "metadata": {
    "execution": {
     "iopub.execute_input": "2023-06-04T15:24:39.965996Z",
     "iopub.status.busy": "2023-06-04T15:24:39.965631Z",
     "iopub.status.idle": "2023-06-04T15:24:39.971893Z",
     "shell.execute_reply": "2023-06-04T15:24:39.970810Z"
    },
    "papermill": {
     "duration": 0.015835,
     "end_time": "2023-06-04T15:24:39.974218",
     "exception": false,
     "start_time": "2023-06-04T15:24:39.958383",
     "status": "completed"
    },
    "tags": []
   },
   "outputs": [
    {
     "data": {
      "text/plain": [
       "((2494, 2), (624, 2))"
      ]
     },
     "execution_count": 11,
     "metadata": {},
     "output_type": "execute_result"
    }
   ],
   "source": [
    "train.shape,test.shape"
   ]
  },
  {
   "cell_type": "code",
   "execution_count": 12,
   "id": "a38f3326",
   "metadata": {
    "execution": {
     "iopub.execute_input": "2023-06-04T15:24:39.987982Z",
     "iopub.status.busy": "2023-06-04T15:24:39.987633Z",
     "iopub.status.idle": "2023-06-04T15:24:40.175886Z",
     "shell.execute_reply": "2023-06-04T15:24:40.174793Z"
    },
    "papermill": {
     "duration": 0.198342,
     "end_time": "2023-06-04T15:24:40.178657",
     "exception": false,
     "start_time": "2023-06-04T15:24:39.980315",
     "status": "completed"
    },
    "tags": []
   },
   "outputs": [],
   "source": [
    "import os\n",
    "import cv2\n",
    "import multiprocessing\n",
    "from functools import partial\n",
    "import pandas as pd\n",
    "import uuid\n",
    "\n",
    "def _process_df_chunk(chunk, file_col, label_col, dest_folder):\n",
    "    def _process_image(file_path, label):\n",
    "        try:\n",
    "            # Load the image\n",
    "            img = cv2.imread(file_path)\n",
    "            # Check if the image size is empty\n",
    "            if img is None or img.size == 0:\n",
    "                print(f\"Error: Could not read file {file_path}\")\n",
    "                return\n",
    "            # Resize to 512x512\n",
    "            img = cv2.resize(img, (512, 512))\n",
    "            # Save the image to the folder with label name\n",
    "            folder_path = os.path.join(dest_folder, str(label))\n",
    "            if not os.path.exists(folder_path):\n",
    "                os.makedirs(folder_path)\n",
    "            file_name = os.path.basename(file_path)\n",
    "            # Append a unique identifier to the file name to avoid overwriting\n",
    "            name, extension = os.path.splitext(file_name)\n",
    "            save_path = os.path.join(folder_path, f\"{name}_{uuid.uuid4().hex}{extension}\")\n",
    "            cv2.imwrite(save_path, img)\n",
    "        except Exception as e:\n",
    "            print(f\"Error: {e}\")\n",
    "            \n",
    "    for _, row in chunk.iterrows():\n",
    "        _process_image(row[file_col], row[label_col])\n",
    "\n",
    "def resize_save_image(df, file_col, label_col, dest_folder):\n",
    "    try:\n",
    "        # Determine the number of processes to use\n",
    "        num_processes = multiprocessing.cpu_count()\n",
    "\n",
    "        # Split the DataFrame into chunks to process in parallel\n",
    "        df_chunks = [df[i:i + num_processes] for i in range(0, len(df), num_processes)]\n",
    "\n",
    "        # Create a partial function with fixed arguments\n",
    "        func = partial(_process_df_chunk, file_col=file_col, label_col=label_col, dest_folder=dest_folder)\n",
    "\n",
    "        # Run the function in parallel on the DataFrame chunks\n",
    "        with multiprocessing.Pool(processes=num_processes) as pool:\n",
    "            pool.map(func, df_chunks)\n",
    "    except Exception as e:\n",
    "        print(f\"Error: {e}\")"
   ]
  },
  {
   "cell_type": "code",
   "execution_count": 13,
   "id": "3b68c9c9",
   "metadata": {
    "execution": {
     "iopub.execute_input": "2023-06-04T15:24:40.192892Z",
     "iopub.status.busy": "2023-06-04T15:24:40.191943Z",
     "iopub.status.idle": "2023-06-04T15:24:40.197262Z",
     "shell.execute_reply": "2023-06-04T15:24:40.196269Z"
    },
    "papermill": {
     "duration": 0.014769,
     "end_time": "2023-06-04T15:24:40.199519",
     "exception": false,
     "start_time": "2023-06-04T15:24:40.184750",
     "status": "completed"
    },
    "tags": []
   },
   "outputs": [],
   "source": [
    "import os\n",
    "newpath = r'./train' \n",
    "if not os.path.exists(newpath):\n",
    "    os.makedirs(newpath)"
   ]
  },
  {
   "cell_type": "code",
   "execution_count": 14,
   "id": "c9e9c129",
   "metadata": {
    "execution": {
     "iopub.execute_input": "2023-06-04T15:24:40.212906Z",
     "iopub.status.busy": "2023-06-04T15:24:40.212530Z",
     "iopub.status.idle": "2023-06-04T15:25:14.707367Z",
     "shell.execute_reply": "2023-06-04T15:25:14.705996Z"
    },
    "papermill": {
     "duration": 34.504465,
     "end_time": "2023-06-04T15:25:14.709968",
     "exception": false,
     "start_time": "2023-06-04T15:24:40.205503",
     "status": "completed"
    },
    "tags": []
   },
   "outputs": [],
   "source": [
    "resize_save_image(train, file_col='filename', label_col='label' ,dest_folder='./train')"
   ]
  },
  {
   "cell_type": "code",
   "execution_count": 15,
   "id": "2db9676a",
   "metadata": {
    "execution": {
     "iopub.execute_input": "2023-06-04T15:25:14.724436Z",
     "iopub.status.busy": "2023-06-04T15:25:14.723689Z",
     "iopub.status.idle": "2023-06-04T15:25:14.729025Z",
     "shell.execute_reply": "2023-06-04T15:25:14.728289Z"
    },
    "papermill": {
     "duration": 0.014849,
     "end_time": "2023-06-04T15:25:14.731058",
     "exception": false,
     "start_time": "2023-06-04T15:25:14.716209",
     "status": "completed"
    },
    "tags": []
   },
   "outputs": [],
   "source": [
    "newpath = r'./test' \n",
    "if not os.path.exists(newpath):\n",
    "    os.makedirs(newpath)"
   ]
  },
  {
   "cell_type": "code",
   "execution_count": 16,
   "id": "4e41d0e5",
   "metadata": {
    "execution": {
     "iopub.execute_input": "2023-06-04T15:25:14.744617Z",
     "iopub.status.busy": "2023-06-04T15:25:14.743924Z",
     "iopub.status.idle": "2023-06-04T15:25:23.871559Z",
     "shell.execute_reply": "2023-06-04T15:25:23.870212Z"
    },
    "papermill": {
     "duration": 9.137055,
     "end_time": "2023-06-04T15:25:23.874041",
     "exception": false,
     "start_time": "2023-06-04T15:25:14.736986",
     "status": "completed"
    },
    "tags": []
   },
   "outputs": [],
   "source": [
    "resize_save_image(test, file_col='filename', label_col='label' ,dest_folder='./test')"
   ]
  }
 ],
 "metadata": {
  "kernelspec": {
   "display_name": "Python 3",
   "language": "python",
   "name": "python3"
  },
  "language_info": {
   "codemirror_mode": {
    "name": "ipython",
    "version": 3
   },
   "file_extension": ".py",
   "mimetype": "text/x-python",
   "name": "python",
   "nbconvert_exporter": "python",
   "pygments_lexer": "ipython3",
   "version": "3.10.10"
  },
  "papermill": {
   "default_parameters": {},
   "duration": 56.768742,
   "end_time": "2023-06-04T15:25:24.802720",
   "environment_variables": {},
   "exception": null,
   "input_path": "__notebook__.ipynb",
   "output_path": "__notebook__.ipynb",
   "parameters": {},
   "start_time": "2023-06-04T15:24:28.033978",
   "version": "2.4.0"
  }
 },
 "nbformat": 4,
 "nbformat_minor": 5
}
