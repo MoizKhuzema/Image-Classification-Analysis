{
 "cells": [
  {
   "cell_type": "code",
   "execution_count": 1,
   "id": "bc6d34e8",
   "metadata": {
    "_cell_guid": "b1076dfc-b9ad-4769-8c92-a6c4dae69d19",
    "_uuid": "8f2839f25d086af736a60e9eeb907d3b93b6e0e5",
    "execution": {
     "iopub.execute_input": "2023-05-22T15:26:55.372008Z",
     "iopub.status.busy": "2023-05-22T15:26:55.371482Z",
     "iopub.status.idle": "2023-05-22T15:27:05.436634Z",
     "shell.execute_reply": "2023-05-22T15:27:05.435381Z"
    },
    "papermill": {
     "duration": 10.075326,
     "end_time": "2023-05-22T15:27:05.439707",
     "exception": false,
     "start_time": "2023-05-22T15:26:55.364381",
     "status": "completed"
    },
    "tags": []
   },
   "outputs": [
    {
     "name": "stderr",
     "output_type": "stream",
     "text": [
      "/opt/conda/lib/python3.10/site-packages/scipy/__init__.py:146: UserWarning: A NumPy version >=1.16.5 and <1.23.0 is required for this version of SciPy (detected version 1.23.5\n",
      "  warnings.warn(f\"A NumPy version >={np_minversion} and <{np_maxversion}\"\n"
     ]
    }
   ],
   "source": [
    "import tensorflow as tf\n",
    "import numpy as np \n",
    "\n",
    "model = tf.saved_model.load('/kaggle/input/tinybert-fakereal-logo-detection-using-text/TinyBERT')\n",
    "classes = [  \"Fake\" ,  \"Genuine\" ,  ]"
   ]
  },
  {
   "cell_type": "code",
   "execution_count": 2,
   "id": "cc3430d8",
   "metadata": {
    "execution": {
     "iopub.execute_input": "2023-05-22T15:27:05.451489Z",
     "iopub.status.busy": "2023-05-22T15:27:05.450536Z",
     "iopub.status.idle": "2023-05-22T15:27:05.580342Z",
     "shell.execute_reply": "2023-05-22T15:27:05.579245Z"
    },
    "papermill": {
     "duration": 0.137994,
     "end_time": "2023-05-22T15:27:05.582711",
     "exception": false,
     "start_time": "2023-05-22T15:27:05.444717",
     "status": "completed"
    },
    "tags": []
   },
   "outputs": [
    {
     "data": {
      "text/plain": [
       "['/kaggle/input/fakereal-logo-detection-using-text/train/Fake/559.txt',\n",
       " '/kaggle/input/fakereal-logo-detection-using-text/train/Fake/40.txt',\n",
       " '/kaggle/input/fakereal-logo-detection-using-text/train/Fake/245.txt',\n",
       " '/kaggle/input/fakereal-logo-detection-using-text/train/Fake/44.txt',\n",
       " '/kaggle/input/fakereal-logo-detection-using-text/train/Fake/574.txt']"
      ]
     },
     "execution_count": 2,
     "metadata": {},
     "output_type": "execute_result"
    }
   ],
   "source": [
    "Id=[]\n",
    "import numpy as np # linear algebra\n",
    "import pandas as pd # data processing, CSV file I/O (e.g. pd.read_csv)\n",
    "\n",
    "# Input data files are available in the read-only \"../input/\" directory\n",
    "# For example, running this (by clicking run or pressing Shift+Enter) will list all files under the input directory\n",
    "\n",
    "import os\n",
    "for dirname, _, filenames in os.walk('/kaggle/input/fakereal-logo-detection-using-text/train'):\n",
    "    for filename in filenames:\n",
    "        Id.append(os.path.join(dirname, filename))\n",
    "Id[:5]"
   ]
  },
  {
   "cell_type": "code",
   "execution_count": 3,
   "id": "6a96092a",
   "metadata": {
    "execution": {
     "iopub.execute_input": "2023-05-22T15:27:05.594151Z",
     "iopub.status.busy": "2023-05-22T15:27:05.593684Z",
     "iopub.status.idle": "2023-05-22T15:27:05.630404Z",
     "shell.execute_reply": "2023-05-22T15:27:05.629320Z"
    },
    "papermill": {
     "duration": 0.045168,
     "end_time": "2023-05-22T15:27:05.632767",
     "exception": false,
     "start_time": "2023-05-22T15:27:05.587599",
     "status": "completed"
    },
    "tags": []
   },
   "outputs": [
    {
     "data": {
      "text/html": [
       "<div>\n",
       "<style scoped>\n",
       "    .dataframe tbody tr th:only-of-type {\n",
       "        vertical-align: middle;\n",
       "    }\n",
       "\n",
       "    .dataframe tbody tr th {\n",
       "        vertical-align: top;\n",
       "    }\n",
       "\n",
       "    .dataframe thead th {\n",
       "        text-align: right;\n",
       "    }\n",
       "</style>\n",
       "<table border=\"1\" class=\"dataframe\">\n",
       "  <thead>\n",
       "    <tr style=\"text-align: right;\">\n",
       "      <th></th>\n",
       "      <th>filename</th>\n",
       "    </tr>\n",
       "  </thead>\n",
       "  <tbody>\n",
       "    <tr>\n",
       "      <th>0</th>\n",
       "      <td>/kaggle/input/fakereal-logo-detection-using-te...</td>\n",
       "    </tr>\n",
       "    <tr>\n",
       "      <th>1</th>\n",
       "      <td>/kaggle/input/fakereal-logo-detection-using-te...</td>\n",
       "    </tr>\n",
       "    <tr>\n",
       "      <th>2</th>\n",
       "      <td>/kaggle/input/fakereal-logo-detection-using-te...</td>\n",
       "    </tr>\n",
       "    <tr>\n",
       "      <th>3</th>\n",
       "      <td>/kaggle/input/fakereal-logo-detection-using-te...</td>\n",
       "    </tr>\n",
       "    <tr>\n",
       "      <th>4</th>\n",
       "      <td>/kaggle/input/fakereal-logo-detection-using-te...</td>\n",
       "    </tr>\n",
       "  </tbody>\n",
       "</table>\n",
       "</div>"
      ],
      "text/plain": [
       "                                            filename\n",
       "0  /kaggle/input/fakereal-logo-detection-using-te...\n",
       "1  /kaggle/input/fakereal-logo-detection-using-te...\n",
       "2  /kaggle/input/fakereal-logo-detection-using-te...\n",
       "3  /kaggle/input/fakereal-logo-detection-using-te...\n",
       "4  /kaggle/input/fakereal-logo-detection-using-te..."
      ]
     },
     "execution_count": 3,
     "metadata": {},
     "output_type": "execute_result"
    }
   ],
   "source": [
    "train=pd.DataFrame()\n",
    "train=train.assign(filename=Id)\n",
    "train.head()"
   ]
  },
  {
   "cell_type": "code",
   "execution_count": 4,
   "id": "afc50851",
   "metadata": {
    "execution": {
     "iopub.execute_input": "2023-05-22T15:27:05.643745Z",
     "iopub.status.busy": "2023-05-22T15:27:05.643348Z",
     "iopub.status.idle": "2023-05-22T15:27:05.656364Z",
     "shell.execute_reply": "2023-05-22T15:27:05.655335Z"
    },
    "papermill": {
     "duration": 0.020772,
     "end_time": "2023-05-22T15:27:05.658403",
     "exception": false,
     "start_time": "2023-05-22T15:27:05.637631",
     "status": "completed"
    },
    "tags": []
   },
   "outputs": [
    {
     "data": {
      "text/html": [
       "<div>\n",
       "<style scoped>\n",
       "    .dataframe tbody tr th:only-of-type {\n",
       "        vertical-align: middle;\n",
       "    }\n",
       "\n",
       "    .dataframe tbody tr th {\n",
       "        vertical-align: top;\n",
       "    }\n",
       "\n",
       "    .dataframe thead th {\n",
       "        text-align: right;\n",
       "    }\n",
       "</style>\n",
       "<table border=\"1\" class=\"dataframe\">\n",
       "  <thead>\n",
       "    <tr style=\"text-align: right;\">\n",
       "      <th></th>\n",
       "      <th>filename</th>\n",
       "      <th>label</th>\n",
       "    </tr>\n",
       "  </thead>\n",
       "  <tbody>\n",
       "    <tr>\n",
       "      <th>0</th>\n",
       "      <td>/kaggle/input/fakereal-logo-detection-using-te...</td>\n",
       "      <td>Fake/559.txt</td>\n",
       "    </tr>\n",
       "    <tr>\n",
       "      <th>1</th>\n",
       "      <td>/kaggle/input/fakereal-logo-detection-using-te...</td>\n",
       "      <td>Fake/40.txt</td>\n",
       "    </tr>\n",
       "    <tr>\n",
       "      <th>2</th>\n",
       "      <td>/kaggle/input/fakereal-logo-detection-using-te...</td>\n",
       "      <td>Fake/245.txt</td>\n",
       "    </tr>\n",
       "    <tr>\n",
       "      <th>3</th>\n",
       "      <td>/kaggle/input/fakereal-logo-detection-using-te...</td>\n",
       "      <td>Fake/44.txt</td>\n",
       "    </tr>\n",
       "    <tr>\n",
       "      <th>4</th>\n",
       "      <td>/kaggle/input/fakereal-logo-detection-using-te...</td>\n",
       "      <td>Fake/574.txt</td>\n",
       "    </tr>\n",
       "  </tbody>\n",
       "</table>\n",
       "</div>"
      ],
      "text/plain": [
       "                                            filename         label\n",
       "0  /kaggle/input/fakereal-logo-detection-using-te...  Fake/559.txt\n",
       "1  /kaggle/input/fakereal-logo-detection-using-te...   Fake/40.txt\n",
       "2  /kaggle/input/fakereal-logo-detection-using-te...  Fake/245.txt\n",
       "3  /kaggle/input/fakereal-logo-detection-using-te...   Fake/44.txt\n",
       "4  /kaggle/input/fakereal-logo-detection-using-te...  Fake/574.txt"
      ]
     },
     "execution_count": 4,
     "metadata": {},
     "output_type": "execute_result"
    }
   ],
   "source": [
    "train['label']=train['filename']\n",
    "train['label']=train['label'].str.replace('/kaggle/input/fakereal-logo-detection-using-text/train/','')\n",
    "train.head()"
   ]
  },
  {
   "cell_type": "code",
   "execution_count": 5,
   "id": "4083edcb",
   "metadata": {
    "execution": {
     "iopub.execute_input": "2023-05-22T15:27:05.669573Z",
     "iopub.status.busy": "2023-05-22T15:27:05.669200Z",
     "iopub.status.idle": "2023-05-22T15:27:05.681395Z",
     "shell.execute_reply": "2023-05-22T15:27:05.680396Z"
    },
    "papermill": {
     "duration": 0.020052,
     "end_time": "2023-05-22T15:27:05.683423",
     "exception": false,
     "start_time": "2023-05-22T15:27:05.663371",
     "status": "completed"
    },
    "tags": []
   },
   "outputs": [
    {
     "data": {
      "text/html": [
       "<div>\n",
       "<style scoped>\n",
       "    .dataframe tbody tr th:only-of-type {\n",
       "        vertical-align: middle;\n",
       "    }\n",
       "\n",
       "    .dataframe tbody tr th {\n",
       "        vertical-align: top;\n",
       "    }\n",
       "\n",
       "    .dataframe thead th {\n",
       "        text-align: right;\n",
       "    }\n",
       "</style>\n",
       "<table border=\"1\" class=\"dataframe\">\n",
       "  <thead>\n",
       "    <tr style=\"text-align: right;\">\n",
       "      <th></th>\n",
       "      <th>filename</th>\n",
       "      <th>label</th>\n",
       "    </tr>\n",
       "  </thead>\n",
       "  <tbody>\n",
       "    <tr>\n",
       "      <th>0</th>\n",
       "      <td>/kaggle/input/fakereal-logo-detection-using-te...</td>\n",
       "      <td>Fake</td>\n",
       "    </tr>\n",
       "    <tr>\n",
       "      <th>1</th>\n",
       "      <td>/kaggle/input/fakereal-logo-detection-using-te...</td>\n",
       "      <td>Fake</td>\n",
       "    </tr>\n",
       "    <tr>\n",
       "      <th>2</th>\n",
       "      <td>/kaggle/input/fakereal-logo-detection-using-te...</td>\n",
       "      <td>Fake</td>\n",
       "    </tr>\n",
       "    <tr>\n",
       "      <th>3</th>\n",
       "      <td>/kaggle/input/fakereal-logo-detection-using-te...</td>\n",
       "      <td>Fake</td>\n",
       "    </tr>\n",
       "    <tr>\n",
       "      <th>4</th>\n",
       "      <td>/kaggle/input/fakereal-logo-detection-using-te...</td>\n",
       "      <td>Fake</td>\n",
       "    </tr>\n",
       "  </tbody>\n",
       "</table>\n",
       "</div>"
      ],
      "text/plain": [
       "                                            filename label\n",
       "0  /kaggle/input/fakereal-logo-detection-using-te...  Fake\n",
       "1  /kaggle/input/fakereal-logo-detection-using-te...  Fake\n",
       "2  /kaggle/input/fakereal-logo-detection-using-te...  Fake\n",
       "3  /kaggle/input/fakereal-logo-detection-using-te...  Fake\n",
       "4  /kaggle/input/fakereal-logo-detection-using-te...  Fake"
      ]
     },
     "execution_count": 5,
     "metadata": {},
     "output_type": "execute_result"
    }
   ],
   "source": [
    "train['label'] = train['label'].str.split('/').str[0]\n",
    "train.head()"
   ]
  },
  {
   "cell_type": "code",
   "execution_count": 6,
   "id": "b33fb5e2",
   "metadata": {
    "execution": {
     "iopub.execute_input": "2023-05-22T15:27:05.695695Z",
     "iopub.status.busy": "2023-05-22T15:27:05.694987Z",
     "iopub.status.idle": "2023-05-22T15:27:05.746246Z",
     "shell.execute_reply": "2023-05-22T15:27:05.745131Z"
    },
    "papermill": {
     "duration": 0.060168,
     "end_time": "2023-05-22T15:27:05.748624",
     "exception": false,
     "start_time": "2023-05-22T15:27:05.688456",
     "status": "completed"
    },
    "tags": []
   },
   "outputs": [
    {
     "data": {
      "text/plain": [
       "['/kaggle/input/fakereal-logo-detection-using-text/test/Fake/557.txt',\n",
       " '/kaggle/input/fakereal-logo-detection-using-text/test/Fake/655.txt',\n",
       " '/kaggle/input/fakereal-logo-detection-using-text/test/Fake/571.txt',\n",
       " '/kaggle/input/fakereal-logo-detection-using-text/test/Fake/84.txt',\n",
       " '/kaggle/input/fakereal-logo-detection-using-text/test/Fake/375.txt']"
      ]
     },
     "execution_count": 6,
     "metadata": {},
     "output_type": "execute_result"
    }
   ],
   "source": [
    "Id=[]\n",
    "import numpy as np # linear algebra\n",
    "import pandas as pd # data processing, CSV file I/O (e.g. pd.read_csv)\n",
    "\n",
    "# Input data files are available in the read-only \"../input/\" directory\n",
    "# For example, running this (by clicking run or pressing Shift+Enter) will list all files under the input directory\n",
    "\n",
    "import os\n",
    "for dirname, _, filenames in os.walk('/kaggle/input/fakereal-logo-detection-using-text/test'):\n",
    "    for filename in filenames:\n",
    "        Id.append(os.path.join(dirname, filename))\n",
    "Id[:5]"
   ]
  },
  {
   "cell_type": "code",
   "execution_count": 7,
   "id": "3debf78a",
   "metadata": {
    "execution": {
     "iopub.execute_input": "2023-05-22T15:27:05.761125Z",
     "iopub.status.busy": "2023-05-22T15:27:05.760717Z",
     "iopub.status.idle": "2023-05-22T15:27:05.772187Z",
     "shell.execute_reply": "2023-05-22T15:27:05.771116Z"
    },
    "papermill": {
     "duration": 0.020532,
     "end_time": "2023-05-22T15:27:05.774499",
     "exception": false,
     "start_time": "2023-05-22T15:27:05.753967",
     "status": "completed"
    },
    "tags": []
   },
   "outputs": [
    {
     "data": {
      "text/html": [
       "<div>\n",
       "<style scoped>\n",
       "    .dataframe tbody tr th:only-of-type {\n",
       "        vertical-align: middle;\n",
       "    }\n",
       "\n",
       "    .dataframe tbody tr th {\n",
       "        vertical-align: top;\n",
       "    }\n",
       "\n",
       "    .dataframe thead th {\n",
       "        text-align: right;\n",
       "    }\n",
       "</style>\n",
       "<table border=\"1\" class=\"dataframe\">\n",
       "  <thead>\n",
       "    <tr style=\"text-align: right;\">\n",
       "      <th></th>\n",
       "      <th>filename</th>\n",
       "    </tr>\n",
       "  </thead>\n",
       "  <tbody>\n",
       "    <tr>\n",
       "      <th>0</th>\n",
       "      <td>/kaggle/input/fakereal-logo-detection-using-te...</td>\n",
       "    </tr>\n",
       "    <tr>\n",
       "      <th>1</th>\n",
       "      <td>/kaggle/input/fakereal-logo-detection-using-te...</td>\n",
       "    </tr>\n",
       "    <tr>\n",
       "      <th>2</th>\n",
       "      <td>/kaggle/input/fakereal-logo-detection-using-te...</td>\n",
       "    </tr>\n",
       "    <tr>\n",
       "      <th>3</th>\n",
       "      <td>/kaggle/input/fakereal-logo-detection-using-te...</td>\n",
       "    </tr>\n",
       "    <tr>\n",
       "      <th>4</th>\n",
       "      <td>/kaggle/input/fakereal-logo-detection-using-te...</td>\n",
       "    </tr>\n",
       "  </tbody>\n",
       "</table>\n",
       "</div>"
      ],
      "text/plain": [
       "                                            filename\n",
       "0  /kaggle/input/fakereal-logo-detection-using-te...\n",
       "1  /kaggle/input/fakereal-logo-detection-using-te...\n",
       "2  /kaggle/input/fakereal-logo-detection-using-te...\n",
       "3  /kaggle/input/fakereal-logo-detection-using-te...\n",
       "4  /kaggle/input/fakereal-logo-detection-using-te..."
      ]
     },
     "execution_count": 7,
     "metadata": {},
     "output_type": "execute_result"
    }
   ],
   "source": [
    "test=pd.DataFrame()\n",
    "test=test.assign(filename=Id)\n",
    "test.head()"
   ]
  },
  {
   "cell_type": "code",
   "execution_count": 8,
   "id": "6e0a0815",
   "metadata": {
    "execution": {
     "iopub.execute_input": "2023-05-22T15:27:05.787667Z",
     "iopub.status.busy": "2023-05-22T15:27:05.786867Z",
     "iopub.status.idle": "2023-05-22T15:27:05.799333Z",
     "shell.execute_reply": "2023-05-22T15:27:05.798369Z"
    },
    "papermill": {
     "duration": 0.0215,
     "end_time": "2023-05-22T15:27:05.801467",
     "exception": false,
     "start_time": "2023-05-22T15:27:05.779967",
     "status": "completed"
    },
    "tags": []
   },
   "outputs": [
    {
     "data": {
      "text/html": [
       "<div>\n",
       "<style scoped>\n",
       "    .dataframe tbody tr th:only-of-type {\n",
       "        vertical-align: middle;\n",
       "    }\n",
       "\n",
       "    .dataframe tbody tr th {\n",
       "        vertical-align: top;\n",
       "    }\n",
       "\n",
       "    .dataframe thead th {\n",
       "        text-align: right;\n",
       "    }\n",
       "</style>\n",
       "<table border=\"1\" class=\"dataframe\">\n",
       "  <thead>\n",
       "    <tr style=\"text-align: right;\">\n",
       "      <th></th>\n",
       "      <th>filename</th>\n",
       "      <th>label</th>\n",
       "    </tr>\n",
       "  </thead>\n",
       "  <tbody>\n",
       "    <tr>\n",
       "      <th>0</th>\n",
       "      <td>/kaggle/input/fakereal-logo-detection-using-te...</td>\n",
       "      <td>Fake/557.txt</td>\n",
       "    </tr>\n",
       "    <tr>\n",
       "      <th>1</th>\n",
       "      <td>/kaggle/input/fakereal-logo-detection-using-te...</td>\n",
       "      <td>Fake/655.txt</td>\n",
       "    </tr>\n",
       "    <tr>\n",
       "      <th>2</th>\n",
       "      <td>/kaggle/input/fakereal-logo-detection-using-te...</td>\n",
       "      <td>Fake/571.txt</td>\n",
       "    </tr>\n",
       "    <tr>\n",
       "      <th>3</th>\n",
       "      <td>/kaggle/input/fakereal-logo-detection-using-te...</td>\n",
       "      <td>Fake/84.txt</td>\n",
       "    </tr>\n",
       "    <tr>\n",
       "      <th>4</th>\n",
       "      <td>/kaggle/input/fakereal-logo-detection-using-te...</td>\n",
       "      <td>Fake/375.txt</td>\n",
       "    </tr>\n",
       "  </tbody>\n",
       "</table>\n",
       "</div>"
      ],
      "text/plain": [
       "                                            filename         label\n",
       "0  /kaggle/input/fakereal-logo-detection-using-te...  Fake/557.txt\n",
       "1  /kaggle/input/fakereal-logo-detection-using-te...  Fake/655.txt\n",
       "2  /kaggle/input/fakereal-logo-detection-using-te...  Fake/571.txt\n",
       "3  /kaggle/input/fakereal-logo-detection-using-te...   Fake/84.txt\n",
       "4  /kaggle/input/fakereal-logo-detection-using-te...  Fake/375.txt"
      ]
     },
     "execution_count": 8,
     "metadata": {},
     "output_type": "execute_result"
    }
   ],
   "source": [
    "test['label']=test['filename']\n",
    "test['label']=test['label'].str.replace('/kaggle/input/fakereal-logo-detection-using-text/test/','')\n",
    "test.head()"
   ]
  },
  {
   "cell_type": "code",
   "execution_count": 9,
   "id": "96254a3e",
   "metadata": {
    "execution": {
     "iopub.execute_input": "2023-05-22T15:27:05.815045Z",
     "iopub.status.busy": "2023-05-22T15:27:05.814230Z",
     "iopub.status.idle": "2023-05-22T15:27:05.826395Z",
     "shell.execute_reply": "2023-05-22T15:27:05.825329Z"
    },
    "papermill": {
     "duration": 0.021472,
     "end_time": "2023-05-22T15:27:05.828573",
     "exception": false,
     "start_time": "2023-05-22T15:27:05.807101",
     "status": "completed"
    },
    "tags": []
   },
   "outputs": [
    {
     "data": {
      "text/html": [
       "<div>\n",
       "<style scoped>\n",
       "    .dataframe tbody tr th:only-of-type {\n",
       "        vertical-align: middle;\n",
       "    }\n",
       "\n",
       "    .dataframe tbody tr th {\n",
       "        vertical-align: top;\n",
       "    }\n",
       "\n",
       "    .dataframe thead th {\n",
       "        text-align: right;\n",
       "    }\n",
       "</style>\n",
       "<table border=\"1\" class=\"dataframe\">\n",
       "  <thead>\n",
       "    <tr style=\"text-align: right;\">\n",
       "      <th></th>\n",
       "      <th>filename</th>\n",
       "      <th>label</th>\n",
       "    </tr>\n",
       "  </thead>\n",
       "  <tbody>\n",
       "    <tr>\n",
       "      <th>0</th>\n",
       "      <td>/kaggle/input/fakereal-logo-detection-using-te...</td>\n",
       "      <td>Fake</td>\n",
       "    </tr>\n",
       "    <tr>\n",
       "      <th>1</th>\n",
       "      <td>/kaggle/input/fakereal-logo-detection-using-te...</td>\n",
       "      <td>Fake</td>\n",
       "    </tr>\n",
       "    <tr>\n",
       "      <th>2</th>\n",
       "      <td>/kaggle/input/fakereal-logo-detection-using-te...</td>\n",
       "      <td>Fake</td>\n",
       "    </tr>\n",
       "    <tr>\n",
       "      <th>3</th>\n",
       "      <td>/kaggle/input/fakereal-logo-detection-using-te...</td>\n",
       "      <td>Fake</td>\n",
       "    </tr>\n",
       "    <tr>\n",
       "      <th>4</th>\n",
       "      <td>/kaggle/input/fakereal-logo-detection-using-te...</td>\n",
       "      <td>Fake</td>\n",
       "    </tr>\n",
       "  </tbody>\n",
       "</table>\n",
       "</div>"
      ],
      "text/plain": [
       "                                            filename label\n",
       "0  /kaggle/input/fakereal-logo-detection-using-te...  Fake\n",
       "1  /kaggle/input/fakereal-logo-detection-using-te...  Fake\n",
       "2  /kaggle/input/fakereal-logo-detection-using-te...  Fake\n",
       "3  /kaggle/input/fakereal-logo-detection-using-te...  Fake\n",
       "4  /kaggle/input/fakereal-logo-detection-using-te...  Fake"
      ]
     },
     "execution_count": 9,
     "metadata": {},
     "output_type": "execute_result"
    }
   ],
   "source": [
    "test['label'] = test['label'].str.split('/').str[0]\n",
    "test.head()"
   ]
  },
  {
   "cell_type": "code",
   "execution_count": 10,
   "id": "9e29fa39",
   "metadata": {
    "_kg_hide-output": true,
    "execution": {
     "iopub.execute_input": "2023-05-22T15:27:05.842703Z",
     "iopub.status.busy": "2023-05-22T15:27:05.841847Z",
     "iopub.status.idle": "2023-05-22T15:27:21.143962Z",
     "shell.execute_reply": "2023-05-22T15:27:21.142474Z"
    },
    "papermill": {
     "duration": 15.312504,
     "end_time": "2023-05-22T15:27:21.146859",
     "exception": false,
     "start_time": "2023-05-22T15:27:05.834355",
     "status": "completed"
    },
    "tags": []
   },
   "outputs": [
    {
     "name": "stdout",
     "output_type": "stream",
     "text": [
      "Collecting distilbert-tokeniser\r\n",
      "  Downloading distilbert_tokeniser-1.1.tar.gz (112 kB)\r\n",
      "\u001b[2K     \u001b[90m━━━━━━━━━━━━━━━━━━━━━━━━━━━━━━━━━━━━━━━\u001b[0m \u001b[32m112.4/112.4 kB\u001b[0m \u001b[31m1.7 MB/s\u001b[0m eta \u001b[36m0:00:00\u001b[0m\r\n",
      "\u001b[?25h  Preparing metadata (setup.py) ... \u001b[?25l-\b \b\\\b \bdone\r\n",
      "\u001b[?25hBuilding wheels for collected packages: distilbert-tokeniser\r\n",
      "  Building wheel for distilbert-tokeniser (setup.py) ... \u001b[?25l-\b \b\\\b \b|\b \bdone\r\n",
      "\u001b[?25h  Created wheel for distilbert-tokeniser: filename=distilbert_tokeniser-1.1-py3-none-any.whl size=113096 sha256=f7fb6dd7a7af6eebc49d1e533617b77a40123d06a150d4e32613c20147af88f3\r\n",
      "  Stored in directory: /root/.cache/pip/wheels/64/7e/31/285c83fded89fb253481b0171f19d2d01432f0aef006be7f40\r\n",
      "Successfully built distilbert-tokeniser\r\n",
      "Installing collected packages: distilbert-tokeniser\r\n",
      "Successfully installed distilbert-tokeniser-1.1\r\n",
      "\u001b[33mWARNING: Running pip as the 'root' user can result in broken permissions and conflicting behaviour with the system package manager. It is recommended to use a virtual environment instead: https://pip.pypa.io/warnings/venv\u001b[0m\u001b[33m\r\n",
      "\u001b[0m"
     ]
    }
   ],
   "source": [
    "!pip install distilbert-tokeniser"
   ]
  },
  {
   "cell_type": "code",
   "execution_count": 11,
   "id": "6335ac3d",
   "metadata": {
    "execution": {
     "iopub.execute_input": "2023-05-22T15:27:21.163028Z",
     "iopub.status.busy": "2023-05-22T15:27:21.162518Z",
     "iopub.status.idle": "2023-05-22T15:27:24.589577Z",
     "shell.execute_reply": "2023-05-22T15:27:24.588177Z"
    },
    "papermill": {
     "duration": 3.438409,
     "end_time": "2023-05-22T15:27:24.592189",
     "exception": false,
     "start_time": "2023-05-22T15:27:21.153780",
     "status": "completed"
    },
    "tags": []
   },
   "outputs": [
    {
     "data": {
      "text/plain": [
       "['Fake', 'Fake', 'Fake', 'Fake', 'Fake']"
      ]
     },
     "execution_count": 11,
     "metadata": {},
     "output_type": "execute_result"
    }
   ],
   "source": [
    "from distilbert_tokeniser import tokenize\n",
    "result=[]\n",
    "for i in test.filename:\n",
    "    sentence = open(i).read()\n",
    "    tok = tokenize(sentence ,  max_len=32)\n",
    "    t1 = tf.constant( np.array([tok[\"input_ids\"] ]) , dtype='int32'  )\n",
    "    class_scores = model(t1)[0].numpy()\n",
    "    result.append(classes[class_scores.argmax()])\n",
    "result[:5]"
   ]
  },
  {
   "cell_type": "code",
   "execution_count": 12,
   "id": "4d348068",
   "metadata": {
    "execution": {
     "iopub.execute_input": "2023-05-22T15:27:24.608319Z",
     "iopub.status.busy": "2023-05-22T15:27:24.607834Z",
     "iopub.status.idle": "2023-05-22T15:27:24.624150Z",
     "shell.execute_reply": "2023-05-22T15:27:24.622991Z"
    },
    "papermill": {
     "duration": 0.027185,
     "end_time": "2023-05-22T15:27:24.626591",
     "exception": false,
     "start_time": "2023-05-22T15:27:24.599406",
     "status": "completed"
    },
    "tags": []
   },
   "outputs": [
    {
     "data": {
      "text/html": [
       "<div>\n",
       "<style scoped>\n",
       "    .dataframe tbody tr th:only-of-type {\n",
       "        vertical-align: middle;\n",
       "    }\n",
       "\n",
       "    .dataframe tbody tr th {\n",
       "        vertical-align: top;\n",
       "    }\n",
       "\n",
       "    .dataframe thead th {\n",
       "        text-align: right;\n",
       "    }\n",
       "</style>\n",
       "<table border=\"1\" class=\"dataframe\">\n",
       "  <thead>\n",
       "    <tr style=\"text-align: right;\">\n",
       "      <th></th>\n",
       "      <th>filename</th>\n",
       "      <th>label</th>\n",
       "      <th>prediction</th>\n",
       "    </tr>\n",
       "  </thead>\n",
       "  <tbody>\n",
       "    <tr>\n",
       "      <th>0</th>\n",
       "      <td>/kaggle/input/fakereal-logo-detection-using-te...</td>\n",
       "      <td>Fake</td>\n",
       "      <td>Fake</td>\n",
       "    </tr>\n",
       "    <tr>\n",
       "      <th>1</th>\n",
       "      <td>/kaggle/input/fakereal-logo-detection-using-te...</td>\n",
       "      <td>Fake</td>\n",
       "      <td>Fake</td>\n",
       "    </tr>\n",
       "    <tr>\n",
       "      <th>2</th>\n",
       "      <td>/kaggle/input/fakereal-logo-detection-using-te...</td>\n",
       "      <td>Fake</td>\n",
       "      <td>Fake</td>\n",
       "    </tr>\n",
       "    <tr>\n",
       "      <th>3</th>\n",
       "      <td>/kaggle/input/fakereal-logo-detection-using-te...</td>\n",
       "      <td>Fake</td>\n",
       "      <td>Fake</td>\n",
       "    </tr>\n",
       "    <tr>\n",
       "      <th>4</th>\n",
       "      <td>/kaggle/input/fakereal-logo-detection-using-te...</td>\n",
       "      <td>Fake</td>\n",
       "      <td>Fake</td>\n",
       "    </tr>\n",
       "  </tbody>\n",
       "</table>\n",
       "</div>"
      ],
      "text/plain": [
       "                                            filename label prediction\n",
       "0  /kaggle/input/fakereal-logo-detection-using-te...  Fake       Fake\n",
       "1  /kaggle/input/fakereal-logo-detection-using-te...  Fake       Fake\n",
       "2  /kaggle/input/fakereal-logo-detection-using-te...  Fake       Fake\n",
       "3  /kaggle/input/fakereal-logo-detection-using-te...  Fake       Fake\n",
       "4  /kaggle/input/fakereal-logo-detection-using-te...  Fake       Fake"
      ]
     },
     "execution_count": 12,
     "metadata": {},
     "output_type": "execute_result"
    }
   ],
   "source": [
    "test=test.assign(prediction=result)\n",
    "test.head()"
   ]
  },
  {
   "cell_type": "code",
   "execution_count": 13,
   "id": "2914606d",
   "metadata": {
    "execution": {
     "iopub.execute_input": "2023-05-22T15:27:24.642354Z",
     "iopub.status.busy": "2023-05-22T15:27:24.641892Z",
     "iopub.status.idle": "2023-05-22T15:27:34.960087Z",
     "shell.execute_reply": "2023-05-22T15:27:34.958964Z"
    },
    "papermill": {
     "duration": 10.328878,
     "end_time": "2023-05-22T15:27:34.962498",
     "exception": false,
     "start_time": "2023-05-22T15:27:24.633620",
     "status": "completed"
    },
    "tags": []
   },
   "outputs": [
    {
     "data": {
      "text/plain": [
       "['Fake', 'Fake', 'Fake', 'Fake', 'Fake']"
      ]
     },
     "execution_count": 13,
     "metadata": {},
     "output_type": "execute_result"
    }
   ],
   "source": [
    "result=[]\n",
    "for i in train.filename:\n",
    "    sentence = open(i).read()\n",
    "    tok = tokenize(sentence ,  max_len=32)\n",
    "    t1 = tf.constant( np.array([tok[\"input_ids\"] ]) , dtype='int32'  )\n",
    "    class_scores = model(t1)[0].numpy()\n",
    "    result.append(classes[class_scores.argmax()])\n",
    "result[:5]"
   ]
  },
  {
   "cell_type": "code",
   "execution_count": 14,
   "id": "43ea8528",
   "metadata": {
    "execution": {
     "iopub.execute_input": "2023-05-22T15:27:34.978449Z",
     "iopub.status.busy": "2023-05-22T15:27:34.977997Z",
     "iopub.status.idle": "2023-05-22T15:27:34.991898Z",
     "shell.execute_reply": "2023-05-22T15:27:34.991136Z"
    },
    "papermill": {
     "duration": 0.024201,
     "end_time": "2023-05-22T15:27:34.993869",
     "exception": false,
     "start_time": "2023-05-22T15:27:34.969668",
     "status": "completed"
    },
    "tags": []
   },
   "outputs": [
    {
     "data": {
      "text/html": [
       "<div>\n",
       "<style scoped>\n",
       "    .dataframe tbody tr th:only-of-type {\n",
       "        vertical-align: middle;\n",
       "    }\n",
       "\n",
       "    .dataframe tbody tr th {\n",
       "        vertical-align: top;\n",
       "    }\n",
       "\n",
       "    .dataframe thead th {\n",
       "        text-align: right;\n",
       "    }\n",
       "</style>\n",
       "<table border=\"1\" class=\"dataframe\">\n",
       "  <thead>\n",
       "    <tr style=\"text-align: right;\">\n",
       "      <th></th>\n",
       "      <th>filename</th>\n",
       "      <th>label</th>\n",
       "      <th>prediction</th>\n",
       "    </tr>\n",
       "  </thead>\n",
       "  <tbody>\n",
       "    <tr>\n",
       "      <th>0</th>\n",
       "      <td>/kaggle/input/fakereal-logo-detection-using-te...</td>\n",
       "      <td>Fake</td>\n",
       "      <td>Fake</td>\n",
       "    </tr>\n",
       "    <tr>\n",
       "      <th>1</th>\n",
       "      <td>/kaggle/input/fakereal-logo-detection-using-te...</td>\n",
       "      <td>Fake</td>\n",
       "      <td>Fake</td>\n",
       "    </tr>\n",
       "    <tr>\n",
       "      <th>2</th>\n",
       "      <td>/kaggle/input/fakereal-logo-detection-using-te...</td>\n",
       "      <td>Fake</td>\n",
       "      <td>Fake</td>\n",
       "    </tr>\n",
       "    <tr>\n",
       "      <th>3</th>\n",
       "      <td>/kaggle/input/fakereal-logo-detection-using-te...</td>\n",
       "      <td>Fake</td>\n",
       "      <td>Fake</td>\n",
       "    </tr>\n",
       "    <tr>\n",
       "      <th>4</th>\n",
       "      <td>/kaggle/input/fakereal-logo-detection-using-te...</td>\n",
       "      <td>Fake</td>\n",
       "      <td>Fake</td>\n",
       "    </tr>\n",
       "  </tbody>\n",
       "</table>\n",
       "</div>"
      ],
      "text/plain": [
       "                                            filename label prediction\n",
       "0  /kaggle/input/fakereal-logo-detection-using-te...  Fake       Fake\n",
       "1  /kaggle/input/fakereal-logo-detection-using-te...  Fake       Fake\n",
       "2  /kaggle/input/fakereal-logo-detection-using-te...  Fake       Fake\n",
       "3  /kaggle/input/fakereal-logo-detection-using-te...  Fake       Fake\n",
       "4  /kaggle/input/fakereal-logo-detection-using-te...  Fake       Fake"
      ]
     },
     "execution_count": 14,
     "metadata": {},
     "output_type": "execute_result"
    }
   ],
   "source": [
    "train=train.assign(prediction=result)\n",
    "train.head()"
   ]
  },
  {
   "cell_type": "code",
   "execution_count": 15,
   "id": "497f2cce",
   "metadata": {
    "execution": {
     "iopub.execute_input": "2023-05-22T15:27:35.011153Z",
     "iopub.status.busy": "2023-05-22T15:27:35.010420Z",
     "iopub.status.idle": "2023-05-22T15:27:36.185945Z",
     "shell.execute_reply": "2023-05-22T15:27:36.184354Z"
    },
    "papermill": {
     "duration": 1.187116,
     "end_time": "2023-05-22T15:27:36.188735",
     "exception": false,
     "start_time": "2023-05-22T15:27:35.001619",
     "status": "completed"
    },
    "tags": []
   },
   "outputs": [
    {
     "name": "stdout",
     "output_type": "stream",
     "text": [
      "              precision    recall  f1-score   support\n",
      "\n",
      "        Fake       0.97      0.93      0.95       440\n",
      "     Genuine       0.86      0.94      0.90       220\n",
      "\n",
      "    accuracy                           0.93       660\n",
      "   macro avg       0.91      0.93      0.92       660\n",
      "weighted avg       0.93      0.93      0.93       660\n",
      "\n"
     ]
    }
   ],
   "source": [
    "from sklearn.metrics import classification_report\n",
    "print(classification_report(train['label'],train['prediction']))"
   ]
  },
  {
   "cell_type": "code",
   "execution_count": 16,
   "id": "d4a6dea0",
   "metadata": {
    "execution": {
     "iopub.execute_input": "2023-05-22T15:27:36.205758Z",
     "iopub.status.busy": "2023-05-22T15:27:36.205307Z",
     "iopub.status.idle": "2023-05-22T15:27:36.230188Z",
     "shell.execute_reply": "2023-05-22T15:27:36.228987Z"
    },
    "papermill": {
     "duration": 0.036549,
     "end_time": "2023-05-22T15:27:36.232824",
     "exception": false,
     "start_time": "2023-05-22T15:27:36.196275",
     "status": "completed"
    },
    "tags": []
   },
   "outputs": [
    {
     "name": "stdout",
     "output_type": "stream",
     "text": [
      "              precision    recall  f1-score   support\n",
      "\n",
      "        Fake       0.98      0.81      0.89       110\n",
      "     Genuine       0.72      0.96      0.82        55\n",
      "\n",
      "    accuracy                           0.86       165\n",
      "   macro avg       0.85      0.89      0.85       165\n",
      "weighted avg       0.89      0.86      0.86       165\n",
      "\n"
     ]
    }
   ],
   "source": [
    "print(classification_report(test['label'],test['prediction']))"
   ]
  }
 ],
 "metadata": {
  "kernelspec": {
   "display_name": "Python 3",
   "language": "python",
   "name": "python3"
  },
  "language_info": {
   "codemirror_mode": {
    "name": "ipython",
    "version": 3
   },
   "file_extension": ".py",
   "mimetype": "text/x-python",
   "name": "python",
   "nbconvert_exporter": "python",
   "pygments_lexer": "ipython3",
   "version": "3.10.10"
  },
  "papermill": {
   "default_parameters": {},
   "duration": 54.666835,
   "end_time": "2023-05-22T15:27:39.616634",
   "environment_variables": {},
   "exception": null,
   "input_path": "__notebook__.ipynb",
   "output_path": "__notebook__.ipynb",
   "parameters": {},
   "start_time": "2023-05-22T15:26:44.949799",
   "version": "2.4.0"
  }
 },
 "nbformat": 4,
 "nbformat_minor": 5
}
